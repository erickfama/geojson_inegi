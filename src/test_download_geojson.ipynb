{
 "cells": [
  {
   "cell_type": "markdown",
   "metadata": {},
   "source": [
    "# Test para descargar geojson con la API de INEGI"
   ]
  },
  {
   "cell_type": "markdown",
   "metadata": {},
   "source": [
    "## Librerías"
   ]
  },
  {
   "cell_type": "code",
   "execution_count": 1,
   "metadata": {},
   "outputs": [],
   "source": [
    "from INEGIpy import MarcoGeoestadistico\n",
    "\n",
    "# Instancias de clases\n",
    "marco_geo = MarcoGeoestadistico()"
   ]
  },
  {
   "cell_type": "markdown",
   "metadata": {},
   "source": [
    "## Variables de entorno"
   ]
  },
  {
   "cell_type": "code",
   "execution_count": 10,
   "metadata": {},
   "outputs": [],
   "source": [
    "# Root path\n",
    "ROOT_PATH = \"../\"\n",
    "\n",
    "PATH_TO_SAVE = ROOT_PATH + \"geojson/geojson_ags.geojson\""
   ]
  },
  {
   "cell_type": "markdown",
   "metadata": {},
   "source": [
    "## Código"
   ]
  },
  {
   "cell_type": "markdown",
   "metadata": {},
   "source": [
    "### Variables"
   ]
  },
  {
   "cell_type": "code",
   "execution_count": 3,
   "metadata": {},
   "outputs": [],
   "source": [
    "lista_entidades = [\"01\"] # Entidades de las que se desea descargar el geojson"
   ]
  },
  {
   "cell_type": "markdown",
   "metadata": {},
   "source": [
    "### Funciones"
   ]
  },
  {
   "cell_type": "code",
   "execution_count": 7,
   "metadata": {},
   "outputs": [],
   "source": [
    "def save_geojson(geodf, path_to_save: str):\n",
    "    '''\n",
    "    Recibe un geopandasDataFrame y lo guarda como un objeto geojson en la ruta especificada.\n",
    "\n",
    "    Parámetros\n",
    "        geodf: geopandasDataFrame\n",
    "        path_to_save: Path para guardar el objeto geojson, ejemplo: \"../<carpeta donde se guarda el archivo>/<nombre del archivo>.geojson\" \n",
    "    '''\n",
    "    with open(path_to_save, 'w') as file:\n",
    "        file.write(geodf.to_json())\n",
    "\n",
    "    print(f\"geojson saved succesfully in {path_to_save}!\")    "
   ]
  },
  {
   "cell_type": "markdown",
   "metadata": {},
   "source": [
    "### Consulta a la API"
   ]
  },
  {
   "cell_type": "code",
   "execution_count": 5,
   "metadata": {},
   "outputs": [],
   "source": [
    "# Se hace la consulta para obtener las localidades amanzanadas del Estado de Aguascalientes\n",
    "geo_ags = marco_geo.LocalidadesAmanzanadas(entidades=lista_entidades,   # Lista de entidades que se desea descargar \n",
    "                                           as_geodf=True                # Dejar en true para poder transformar a .geojson\n",
    "                                           )"
   ]
  },
  {
   "cell_type": "code",
   "execution_count": 6,
   "metadata": {},
   "outputs": [
    {
     "data": {
      "text/plain": [
       "geopandas.geodataframe.GeoDataFrame"
      ]
     },
     "execution_count": 6,
     "metadata": {},
     "output_type": "execute_result"
    }
   ],
   "source": [
    "# Se corrobora que la consulta regrese un geopandasDataFrame\n",
    "type(geo_ags)"
   ]
  },
  {
   "cell_type": "markdown",
   "metadata": {},
   "source": [
    "### Guardar geojson"
   ]
  },
  {
   "cell_type": "code",
   "execution_count": 11,
   "metadata": {},
   "outputs": [
    {
     "name": "stdout",
     "output_type": "stream",
     "text": [
      "geojson saved succesfully in ../geojson/geojson_ags.geojson!\n"
     ]
    }
   ],
   "source": [
    "save_geojson(geodf=geo_ags, path_to_save=PATH_TO_SAVE)"
   ]
  }
 ],
 "metadata": {
  "kernelspec": {
   "display_name": "Python 3",
   "language": "python",
   "name": "python3"
  },
  "language_info": {
   "codemirror_mode": {
    "name": "ipython",
    "version": 3
   },
   "file_extension": ".py",
   "mimetype": "text/x-python",
   "name": "python",
   "nbconvert_exporter": "python",
   "pygments_lexer": "ipython3",
   "version": "3.11.2"
  }
 },
 "nbformat": 4,
 "nbformat_minor": 2
}
